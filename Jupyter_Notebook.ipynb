{
 "cells": [
  {
   "cell_type": "markdown",
   "metadata": {},
   "source": [
    "<center>\n",
    "    <img src=\"https://cf-courses-data.s3.us.cloud-object-storage.appdomain.cloud/IBMDeveloperSkillsNetwork-DS0105EN-SkillsNetwork/labs/Module2/images/SN_web_lightmode.png\" width=\"300\" alt=\"cognitiveclass.ai logo\">\n",
    "</center>\n"
   ]
  },
  {
   "cell_type": "markdown",
   "metadata": {},
   "source": [
    "#### Add your code below following the instructions given in the course\n"
   ]
  },
  {
   "cell_type": "markdown",
   "metadata": {},
   "source": [
    "# Data Science Tools and Ecosystem"
   ]
  },
  {
   "cell_type": "markdown",
   "metadata": {},
   "source": [
    "# In this notebook, Data Science Tools and Ecosystem are summarized."
   ]
  },
  {
   "cell_type": "markdown",
   "metadata": {},
   "source": [
    "# Some of the popular languages that Data Scientists use are:\n",
    "<ol>\n",
    "    <li>Python</li>\n",
    "    <li>R</li>\n",
    "    <li>Scala</li>\n",
    "    <li>SQL</li>\n",
    "    <li>Java</li>\n",
    "    <li>C/C++ and so on</li>\n",
    "</ol>"
   ]
  },
  {
   "cell_type": "markdown",
   "metadata": {},
   "source": [
    "# Some of the commonly used libraries used by Data Scientists include:\n",
    "<ol>\n",
    "    <li>Pandas</li>\n",
    "    <li>Numpy</li>\n",
    "    <li>Matplotlib</li>\n",
    "    <li>Seaborn</li>\n",
    "    <li>TensorFlow</li>\n",
    "    <li>Scikit-Learn</li>\n",
    "</ol>\n"
   ]
  },
  {
   "cell_type": "markdown",
   "metadata": {},
   "source": [
    "# Data Science Tools\n",
    "<table>\n",
    "    <tr>\n",
    "        <th>Data Science Tools</th>\n",
    "    </tr>\n",
    "    <tr>\n",
    "        <td>Python</td>\n",
    "    </tr>\n",
    "    <tr>\n",
    "        <td>Jupyter Notebook</td>\n",
    "    </tr>\n",
    "    <tr>\n",
    "        <td>VS Code</td>\n",
    "    </tr>\n",
    "    <tr>\n",
    "        <td>Git</td>\n",
    "    </tr>\n",
    "    <tr>\n",
    "        <td>Apache Spark</td> \n",
    "    </tr>\n",
    "    <tr>\n",
    "        <td>Apache Hadoop</td>\n",
    "    </tr>\n",
    "    <tr>\n",
    "        <td>SQL</td>\n",
    "    </tr>\n",
    "</table>"
   ]
  },
  {
   "cell_type": "markdown",
   "metadata": {},
   "source": [
    "# Below are a few examples of evaluating arithmetic expressions in Python:\n",
    "### Multiplication -> 2 * 3\n",
    "### Addition -> 3 + 5\n",
    "### Subtractopm -> 9 - 5\n",
    "### Division -> 9 / 3"
   ]
  },
  {
   "cell_type": "code",
   "execution_count": 1,
   "metadata": {},
   "outputs": [
    {
     "data": {
      "text/plain": [
       "17"
      ]
     },
     "execution_count": 1,
     "metadata": {},
     "output_type": "execute_result"
    }
   ],
   "source": [
    "(3*4)+5"
   ]
  },
  {
   "cell_type": "code",
   "execution_count": 2,
   "metadata": {},
   "outputs": [
    {
     "data": {
      "text/plain": [
       "3.3333333333333335"
      ]
     },
     "execution_count": 2,
     "metadata": {},
     "output_type": "execute_result"
    }
   ],
   "source": [
    "# Converting Minutes into Hours\n",
    "200 / 60"
   ]
  },
  {
   "cell_type": "markdown",
   "metadata": {},
   "source": [
    "# Objectives:\n",
    "<ul>\n",
    "    <li>Create a JupterNotebook Named Data Science Ecosystem</li>\n",
    "    <li>Create Title of The Notebook</li>\n",
    "    <li>Create A cell for Introduction</li>\n",
    "    <li>Data Science Languages</li>\n",
    "    <li>Data Science Tools</li>\n",
    "    <li>Arithimatic Expression Examples</li>\n",
    "    <li>Multiply and Add numbers</li>\n",
    "    <li>Convert minutes to hours</li>\n",
    "    <li></li>\n",
    "</ul>"
   ]
  },
  {
   "cell_type": "markdown",
   "metadata": {},
   "source": [
    "# Author\n",
    "## Muhammad Aftab"
   ]
  },
  {
   "cell_type": "code",
   "execution_count": null,
   "metadata": {},
   "outputs": [],
   "source": []
  }
 ],
 "metadata": {
  "kernelspec": {
   "display_name": "Python 3 (ipykernel)",
   "language": "python",
   "name": "python3"
  },
  "language_info": {
   "codemirror_mode": {
    "name": "ipython",
    "version": 3
   },
   "file_extension": ".py",
   "mimetype": "text/x-python",
   "name": "python",
   "nbconvert_exporter": "python",
   "pygments_lexer": "ipython3",
   "version": "3.12.8"
  }
 },
 "nbformat": 4,
 "nbformat_minor": 4
}
